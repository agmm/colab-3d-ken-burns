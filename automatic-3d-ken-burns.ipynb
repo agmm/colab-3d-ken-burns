{
  "nbformat": 4,
  "nbformat_minor": 0,
  "metadata": {
    "colab": {
      "name": "colab-3d-ken-burns.ipynb",
      "provenance": [],
      "private_outputs": true,
      "collapsed_sections": []
    },
    "kernelspec": {
      "name": "python3",
      "display_name": "Python 3"
    },
    "accelerator": "GPU"
  },
  "cells": [
    {
      "cell_type": "markdown",
      "metadata": {
        "id": "A8Nop9pf84kR",
        "colab_type": "text"
      },
      "source": [
        "# Automatic 3D Ken Burns Effect from a Single Image\n",
        "\n",
        "A PyTorch based implementation of the techniques presented in the following paper: ['3D Ken Burns Effect from a Single Image'](https://arxiv.org/abs/1909.05483).\n",
        "\n",
        "## Note\n",
        "Before running this notebook make sure that your runtime type is 'Python 3 with GPU acceleration'.\n",
        "\n",
        "## Credits\n",
        "- Implementation by: [Simon Niklaus](https://github.com/sniklaus/3d-ken-burns)\n",
        "- Google Colab notebook by: [Arnaldo Gabriel](https://github.com/agmm/colab-3d-ken-burns)\n",
        "\n",
        "## More Info\n",
        "- Paper: https://arxiv.org/abs/1909.05483\n",
        "- Repo: https://github.com/sniklaus/3d-ken-burns\n",
        "- Video: https://www.youtube.com/watch?v=WrajxHHfRBA"
      ]
    },
    {
      "cell_type": "code",
      "metadata": {
        "id": "ySAPF18KOMOx",
        "colab_type": "code",
        "colab": {}
      },
      "source": [
        "# Download the repo from Github\n",
        "!git clone https://github.com/sniklaus/3d-ken-burns.git"
      ],
      "execution_count": 0,
      "outputs": []
    },
    {
      "cell_type": "code",
      "metadata": {
        "id": "i6Aha-7YPALc",
        "colab_type": "code",
        "colab": {}
      },
      "source": [
        "# Move into the downloaded repository\n",
        "%cd 3d-ken-burns"
      ],
      "execution_count": 0,
      "outputs": []
    },
    {
      "cell_type": "code",
      "metadata": {
        "id": "KeM53Mcy0s86",
        "colab_type": "code",
        "colab": {}
      },
      "source": [
        "# Create a new directory to store the videos\n",
        "!mkdir videos"
      ],
      "execution_count": 0,
      "outputs": []
    },
    {
      "cell_type": "code",
      "metadata": {
        "id": "ZydVEq3jOTKD",
        "colab_type": "code",
        "colab": {}
      },
      "source": [
        "# Install dependencies\n",
        "!pip install cupy\n",
        "!pip install moviepy\n"
        "!pip install gevent\n"
      ],
      "execution_count": 0,
      "outputs": []
    },
    {
      "cell_type": "code",
      "metadata": {
        "id": "4Nl4SOOhr9HR",
        "colab_type": "code",
        "colab": {}
      },
      "source": [
        "# Setup environment variable for CUDA\n",
        "%env CUDA_HOME=/usr/local/cuda"
      ],
      "execution_count": 0,
      "outputs": []
    },
    {
      "cell_type": "code",
      "metadata": {
        "id": "kPwSizSvqhtt",
        "colab_type": "code",
        "colab": {}
      },
      "source": [
        "# Download the pre-trained models\n",
        "!bash download.bash"
      ],
      "execution_count": 0,
      "outputs": []
    },
    {
      "cell_type": "code",
      "metadata": {
        "id": "rnePDQ6XO1XO",
        "colab_type": "code",
        "colab": {}
      },
      "source": [
        "# Generate the autozoom video\n",
        "!python autozoom.py --in ./images/doublestrike.jpg --out ./videos/autozoom.mp4"
      ],
      "execution_count": 0,
      "outputs": []
    },
    {
      "cell_type": "code",
      "metadata": {
        "id": "Tlwr5Lj7uQgB",
        "colab_type": "code",
        "colab": {}
      },
      "source": [
        "# Play the generated video\n",
        "from IPython.display import HTML\n",
        "from base64 import b64encode\n",
        "\n",
        "def video(path):\n",
        "  mp4 = open(path,'rb').read()\n",
        "  data_url = \"data:video/mp4;base64,\" + b64encode(mp4).decode()\n",
        "  return HTML('<video width=500 controls loop> <source src=\"%s\" type=\"video/mp4\"></video>' % data_url)\n",
        "\n",
        "video('./videos/autozoom.mp4')"
      ],
      "execution_count": 0,
      "outputs": []
    }
  ]
}
